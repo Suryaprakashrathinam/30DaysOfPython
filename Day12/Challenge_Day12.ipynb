{
 "cells": [
  {
   "cell_type": "code",
   "execution_count": 3,
   "id": "1860716b-2182-405d-912c-a56ae6f33d3f",
   "metadata": {},
   "outputs": [
    {
     "name": "stdin",
     "output_type": "stream",
     "text": [
      " surya.hal.sp@gmailcom\n"
     ]
    },
    {
     "name": "stdout",
     "output_type": "stream",
     "text": [
      "Invalid email\n"
     ]
    }
   ],
   "source": [
    "import re\n",
    "\n",
    "from jupyter_core.version import pattern\n",
    "\n",
    "pattern = \"[a-zA-Z0-9]+@[a-zA-Z]+\\.(com|edu|net)\" #+sign after the bracket we are looking for one or more combinations\n",
    "user_input = input()\n",
    "if(re.search(pattern, user_input)):\n",
    "    print(\"Valid email\")\n",
    "else:\n",
    "    print(\"Invalid email\")"
   ]
  },
  {
   "cell_type": "code",
   "execution_count": null,
   "id": "76e3ff29-3ba7-4e29-929e-38778e3f933d",
   "metadata": {},
   "outputs": [],
   "source": []
  }
 ],
 "metadata": {
  "kernelspec": {
   "display_name": "Python 3 (ipykernel)",
   "language": "python",
   "name": "python3"
  },
  "language_info": {
   "codemirror_mode": {
    "name": "ipython",
    "version": 3
   },
   "file_extension": ".py",
   "mimetype": "text/x-python",
   "name": "python",
   "nbconvert_exporter": "python",
   "pygments_lexer": "ipython3",
   "version": "3.10.11"
  }
 },
 "nbformat": 4,
 "nbformat_minor": 5
}
