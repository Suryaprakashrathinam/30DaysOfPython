{
 "cells": [
  {
   "cell_type": "code",
   "execution_count": 1,
   "id": "a963ce48-cc50-4774-9241-11efbf47f6c4",
   "metadata": {},
   "outputs": [],
   "source": [
    "#stack\n",
    "\n",
    "from collections import deque\n",
    "stack = deque()"
   ]
  },
  {
   "cell_type": "code",
   "execution_count": 2,
   "id": "fd8ccc7e-1134-4563-a9d7-7016cc5007ff",
   "metadata": {},
   "outputs": [
    {
     "data": {
      "text/plain": [
       "['__add__',\n",
       " '__bool__',\n",
       " '__class__',\n",
       " '__class_getitem__',\n",
       " '__contains__',\n",
       " '__copy__',\n",
       " '__delattr__',\n",
       " '__delitem__',\n",
       " '__dir__',\n",
       " '__doc__',\n",
       " '__eq__',\n",
       " '__format__',\n",
       " '__ge__',\n",
       " '__getattribute__',\n",
       " '__getitem__',\n",
       " '__gt__',\n",
       " '__hash__',\n",
       " '__iadd__',\n",
       " '__imul__',\n",
       " '__init__',\n",
       " '__init_subclass__',\n",
       " '__iter__',\n",
       " '__le__',\n",
       " '__len__',\n",
       " '__lt__',\n",
       " '__mul__',\n",
       " '__ne__',\n",
       " '__new__',\n",
       " '__reduce__',\n",
       " '__reduce_ex__',\n",
       " '__repr__',\n",
       " '__reversed__',\n",
       " '__rmul__',\n",
       " '__setattr__',\n",
       " '__setitem__',\n",
       " '__sizeof__',\n",
       " '__str__',\n",
       " '__subclasshook__',\n",
       " 'append',\n",
       " 'appendleft',\n",
       " 'clear',\n",
       " 'copy',\n",
       " 'count',\n",
       " 'extend',\n",
       " 'extendleft',\n",
       " 'index',\n",
       " 'insert',\n",
       " 'maxlen',\n",
       " 'pop',\n",
       " 'popleft',\n",
       " 'remove',\n",
       " 'reverse',\n",
       " 'rotate']"
      ]
     },
     "execution_count": 2,
     "metadata": {},
     "output_type": "execute_result"
    }
   ],
   "source": [
    "dir(stack)"
   ]
  },
  {
   "cell_type": "code",
   "execution_count": 8,
   "id": "ccc4dc10-f628-47d0-9dc5-a5a035292120",
   "metadata": {},
   "outputs": [],
   "source": [
    "stack.append(\"https://idrw.org/category/news-beat/\")"
   ]
  },
  {
   "cell_type": "code",
   "execution_count": 9,
   "id": "7e2efad8-a650-45da-beec-2db9cf1d4bd1",
   "metadata": {},
   "outputs": [
    {
     "data": {
      "text/plain": [
       "deque(['https://idrw.org/category/news-beat/',\n",
       "       'https://idrw.org/category/news-beat/',\n",
       "       'https://idrw.org/category/news-beat/',\n",
       "       'https://idrw.org/category/news-beat/'])"
      ]
     },
     "execution_count": 9,
     "metadata": {},
     "output_type": "execute_result"
    }
   ],
   "source": [
    "stack"
   ]
  },
  {
   "cell_type": "code",
   "execution_count": 10,
   "id": "00651959-07dc-4506-b56b-093c248c9af9",
   "metadata": {},
   "outputs": [
    {
     "data": {
      "text/plain": [
       "'https://idrw.org/category/news-beat/'"
      ]
     },
     "execution_count": 10,
     "metadata": {},
     "output_type": "execute_result"
    }
   ],
   "source": [
    "stack.pop()"
   ]
  },
  {
   "cell_type": "code",
   "execution_count": 11,
   "id": "79cf768f-cd07-43a9-955a-9d75821c586b",
   "metadata": {},
   "outputs": [
    {
     "data": {
      "text/plain": [
       "'https://idrw.org/category/news-beat/'"
      ]
     },
     "execution_count": 11,
     "metadata": {},
     "output_type": "execute_result"
    }
   ],
   "source": [
    "stack.pop()"
   ]
  },
  {
   "cell_type": "code",
   "execution_count": 12,
   "id": "4d126e75-a804-4987-80c3-040ed3d948b4",
   "metadata": {},
   "outputs": [
    {
     "data": {
      "text/plain": [
       "'https://idrw.org/category/news-beat/'"
      ]
     },
     "execution_count": 12,
     "metadata": {},
     "output_type": "execute_result"
    }
   ],
   "source": [
    "stack.pop()"
   ]
  },
  {
   "cell_type": "code",
   "execution_count": 13,
   "id": "6f9739c1-355c-472b-82b6-2590752be606",
   "metadata": {},
   "outputs": [
    {
     "data": {
      "text/plain": [
       "deque(['https://idrw.org/category/news-beat/'])"
      ]
     },
     "execution_count": 13,
     "metadata": {},
     "output_type": "execute_result"
    }
   ],
   "source": [
    "stack"
   ]
  },
  {
   "cell_type": "code",
   "execution_count": 14,
   "id": "9cd1b269-c67a-4990-af97-e11a24c46b18",
   "metadata": {},
   "outputs": [],
   "source": [
    "stack.append(\"https://idrw.org/category/india/\")\n",
    "stack.append(\"https://idrw.org/\")"
   ]
  },
  {
   "cell_type": "code",
   "execution_count": 15,
   "id": "f8620530-0fcc-4b50-a3b5-42c9caaba5c6",
   "metadata": {},
   "outputs": [
    {
     "data": {
      "text/plain": [
       "deque(['https://idrw.org/category/news-beat/',\n",
       "       'https://idrw.org/category/india/',\n",
       "       'https://idrw.org/'])"
      ]
     },
     "execution_count": 15,
     "metadata": {},
     "output_type": "execute_result"
    }
   ],
   "source": [
    "stack"
   ]
  },
  {
   "cell_type": "code",
   "execution_count": 16,
   "id": "2606abcc-8687-48a2-b93e-8c1f73ceb1f7",
   "metadata": {},
   "outputs": [],
   "source": [
    "class stack:\n",
    "    def __init__(self):\n",
    "        self.container = deque()\n",
    "\n",
    "    def push(self,val):\n",
    "        self.container.append(val)\n",
    "\n",
    "    def pop(self):\n",
    "        return self.container.pop()\n",
    "\n",
    "    def peek(self):\n",
    "        return self.container[-1]\n",
    "\n",
    "    def is_empty(self):\n",
    "        return len(self.container)==0\n",
    "\n",
    "    def size(self):\n",
    "        return len(self.container)"
   ]
  },
  {
   "cell_type": "code",
   "execution_count": 17,
   "id": "dcab4e45-5c23-4670-8a96-ec71ef86e3ad",
   "metadata": {},
   "outputs": [],
   "source": [
    "s = stack()\n",
    "s.push(5)"
   ]
  },
  {
   "cell_type": "code",
   "execution_count": 18,
   "id": "8871605e-c21e-4c28-9511-53a3f72947ab",
   "metadata": {},
   "outputs": [
    {
     "data": {
      "text/plain": [
       "5"
      ]
     },
     "execution_count": 18,
     "metadata": {},
     "output_type": "execute_result"
    }
   ],
   "source": [
    "s.peek()"
   ]
  },
  {
   "cell_type": "code",
   "execution_count": 19,
   "id": "bd6787f9-d27d-4936-be6f-ac7ab0f8e435",
   "metadata": {},
   "outputs": [
    {
     "data": {
      "text/plain": [
       "5"
      ]
     },
     "execution_count": 19,
     "metadata": {},
     "output_type": "execute_result"
    }
   ],
   "source": [
    "s.pop()"
   ]
  },
  {
   "cell_type": "code",
   "execution_count": 20,
   "id": "9b53df3e-a906-4094-abe0-3ec2f1db2628",
   "metadata": {},
   "outputs": [
    {
     "ename": "IndexError",
     "evalue": "pop from an empty deque",
     "output_type": "error",
     "traceback": [
      "\u001b[1;31m---------------------------------------------------------------------------\u001b[0m",
      "\u001b[1;31mIndexError\u001b[0m                                Traceback (most recent call last)",
      "Cell \u001b[1;32mIn[20], line 1\u001b[0m\n\u001b[1;32m----> 1\u001b[0m \u001b[43ms\u001b[49m\u001b[38;5;241;43m.\u001b[39;49m\u001b[43mpop\u001b[49m\u001b[43m(\u001b[49m\u001b[43m)\u001b[49m\n",
      "Cell \u001b[1;32mIn[16], line 9\u001b[0m, in \u001b[0;36mstack.pop\u001b[1;34m(self)\u001b[0m\n\u001b[0;32m      8\u001b[0m \u001b[38;5;28;01mdef\u001b[39;00m\u001b[38;5;250m \u001b[39m\u001b[38;5;21mpop\u001b[39m(\u001b[38;5;28mself\u001b[39m):\n\u001b[1;32m----> 9\u001b[0m     \u001b[38;5;28;01mreturn\u001b[39;00m \u001b[38;5;28;43mself\u001b[39;49m\u001b[38;5;241;43m.\u001b[39;49m\u001b[43mcontainer\u001b[49m\u001b[38;5;241;43m.\u001b[39;49m\u001b[43mpop\u001b[49m\u001b[43m(\u001b[49m\u001b[43m)\u001b[49m\n",
      "\u001b[1;31mIndexError\u001b[0m: pop from an empty deque"
     ]
    }
   ],
   "source": [
    "s.pop()"
   ]
  },
  {
   "cell_type": "code",
   "execution_count": 23,
   "id": "12178d7e-78c2-48f3-8308-c41b9b76d2e1",
   "metadata": {},
   "outputs": [
    {
     "data": {
      "text/plain": [
       "True"
      ]
     },
     "execution_count": 23,
     "metadata": {},
     "output_type": "execute_result"
    }
   ],
   "source": [
    "s.is_empty()"
   ]
  },
  {
   "cell_type": "code",
   "execution_count": 24,
   "id": "1e9282e2-0876-45c0-9f04-050e660b4b0c",
   "metadata": {},
   "outputs": [],
   "source": [
    "s.push(68)\n",
    "s.push(78)\n",
    "s.push(7)"
   ]
  },
  {
   "cell_type": "code",
   "execution_count": 26,
   "id": "b2a4d368-9135-4af4-9ff9-0c4db53b9b5c",
   "metadata": {},
   "outputs": [
    {
     "data": {
      "text/plain": [
       "3"
      ]
     },
     "execution_count": 26,
     "metadata": {},
     "output_type": "execute_result"
    }
   ],
   "source": [
    "s.size()"
   ]
  },
  {
   "cell_type": "code",
   "execution_count": 27,
   "id": "892f9c2d-96c8-4521-b88b-b915a8c75cd4",
   "metadata": {},
   "outputs": [],
   "source": [
    "# queue\n",
    "\n",
    "wmt_stock_price_queue = []"
   ]
  },
  {
   "cell_type": "code",
   "execution_count": 28,
   "id": "bf2a38a0-26eb-4064-910b-cb35f774acc4",
   "metadata": {},
   "outputs": [],
   "source": [
    "wmt_stock_price_queue.insert(0, 131)\n",
    "wmt_stock_price_queue.insert(0, 135)\n",
    "wmt_stock_price_queue.insert(0, 140)"
   ]
  },
  {
   "cell_type": "code",
   "execution_count": 29,
   "id": "80c93986-c3fc-4c89-afc9-d0ad82c4167a",
   "metadata": {},
   "outputs": [
    {
     "data": {
      "text/plain": [
       "[140, 135, 131]"
      ]
     },
     "execution_count": 29,
     "metadata": {},
     "output_type": "execute_result"
    }
   ],
   "source": [
    "wmt_stock_price_queue"
   ]
  },
  {
   "cell_type": "code",
   "execution_count": 30,
   "id": "644f9d31-c12c-4ca6-a69c-660ef875d9a1",
   "metadata": {},
   "outputs": [
    {
     "data": {
      "text/plain": [
       "131"
      ]
     },
     "execution_count": 30,
     "metadata": {},
     "output_type": "execute_result"
    }
   ],
   "source": [
    "wmt_stock_price_queue.pop()"
   ]
  },
  {
   "cell_type": "code",
   "execution_count": 31,
   "id": "15a144d1-9775-45a4-a409-5df86186ae31",
   "metadata": {},
   "outputs": [
    {
     "data": {
      "text/plain": [
       "135"
      ]
     },
     "execution_count": 31,
     "metadata": {},
     "output_type": "execute_result"
    }
   ],
   "source": [
    "wmt_stock_price_queue.pop()"
   ]
  },
  {
   "cell_type": "code",
   "execution_count": 33,
   "id": "dbc2d498-96f9-456c-98bf-8bf4b37086d6",
   "metadata": {},
   "outputs": [],
   "source": [
    "from collections import deque\n",
    "q = deque()"
   ]
  },
  {
   "cell_type": "code",
   "execution_count": 34,
   "id": "643f180a-c61f-4ea5-a543-21f5410c6672",
   "metadata": {},
   "outputs": [],
   "source": [
    "q.appendleft(5) #in stack always append but in queue always append left\n",
    "q.appendleft(10)\n",
    "q.appendleft(15)"
   ]
  },
  {
   "cell_type": "code",
   "execution_count": 35,
   "id": "4f9aa982-b068-4d25-9b6d-a69feb5b608f",
   "metadata": {},
   "outputs": [
    {
     "data": {
      "text/plain": [
       "deque([15, 10, 5])"
      ]
     },
     "execution_count": 35,
     "metadata": {},
     "output_type": "execute_result"
    }
   ],
   "source": [
    "q"
   ]
  },
  {
   "cell_type": "code",
   "execution_count": 36,
   "id": "5f776dc6-3155-4106-b972-4e9dc916faf7",
   "metadata": {},
   "outputs": [
    {
     "data": {
      "text/plain": [
       "5"
      ]
     },
     "execution_count": 36,
     "metadata": {},
     "output_type": "execute_result"
    }
   ],
   "source": [
    "q.pop()"
   ]
  },
  {
   "cell_type": "code",
   "execution_count": 37,
   "id": "a997c705-f47c-47cc-aa7b-804ea497b44a",
   "metadata": {},
   "outputs": [
    {
     "data": {
      "text/plain": [
       "deque([15, 10])"
      ]
     },
     "execution_count": 37,
     "metadata": {},
     "output_type": "execute_result"
    }
   ],
   "source": [
    "q"
   ]
  },
  {
   "cell_type": "code",
   "execution_count": 38,
   "id": "d13d20ad-0f1c-4c3c-bbf7-a51fb192c67c",
   "metadata": {},
   "outputs": [],
   "source": [
    "class Queue:\n",
    "    def __init__(self):\n",
    "        self.buffer = deque()\n",
    "\n",
    "    def enque(self,val): #placing an element in the queue\n",
    "        self.buffer.appendleft(val)\n",
    "\n",
    "    def deque(self): #out on the queue\n",
    "        return self.buffer.pop()\n",
    "\n",
    "    # def peek(self):\n",
    "    #     return self.container[-1]\n",
    "\n",
    "    def is_empty(self):\n",
    "        return len(self.buffer)==0\n",
    "\n",
    "    def size(self):\n",
    "        return len(self.buffer)"
   ]
  },
  {
   "cell_type": "code",
   "execution_count": null,
   "id": "38e2264d-15b9-499c-997c-209a43383399",
   "metadata": {},
   "outputs": [],
   "source": []
  }
 ],
 "metadata": {
  "kernelspec": {
   "display_name": "Python 3 (ipykernel)",
   "language": "python",
   "name": "python3"
  },
  "language_info": {
   "codemirror_mode": {
    "name": "ipython",
    "version": 3
   },
   "file_extension": ".py",
   "mimetype": "text/x-python",
   "name": "python",
   "nbconvert_exporter": "python",
   "pygments_lexer": "ipython3",
   "version": "3.10.11"
  }
 },
 "nbformat": 4,
 "nbformat_minor": 5
}
