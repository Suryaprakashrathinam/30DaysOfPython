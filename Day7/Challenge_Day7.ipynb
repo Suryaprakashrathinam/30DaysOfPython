{
 "cells": [
  {
   "cell_type": "code",
   "execution_count": 15,
   "id": "92917e27-ab76-4207-8359-586f7b256e53",
   "metadata": {},
   "outputs": [],
   "source": [
    "# with open(\"C:\\\\Code\\\\Works\\\\Py_tutorials\\\\File handling\\\\love.txt\") as f:\n",
    "#     for line in f:\n",
    "#         print (line)\n",
    "# word_count = {}\n",
    "# for word in line.split():\n",
    "#     if word in word_count:\n",
    "#         word_count[word] += 1\n",
    "#     else:\n",
    "#         word_count[word] = 1\n",
    "# print (word_count)"
   ]
  },
  {
   "cell_type": "code",
   "execution_count": 17,
   "id": "e3ce2423-156f-4d4b-9baf-1f5a702a2f4b",
   "metadata": {},
   "outputs": [
    {
     "name": "stdout",
     "output_type": "stream",
     "text": [
      "{'I': 1, 'love': 1, 'Abinaya': 1, 'She': 1, 'is': 1, 'the': 1, 'most': 1, 'beautiful': 1, 'girl': 1, 'i': 1, 'have': 1, 'ever': 1, 'met': 1, 'Especially': 1, 'her': 1, 'eyes': 1, 'are': 1, 'look': 1, 'like': 1, 'a': 1, 'gold': 1, 'fish': 1}\n"
     ]
    }
   ],
   "source": [
    "word_count = {}\n",
    "\n",
    "with open(\"C:\\\\Code\\\\Works\\\\Py_tutorials\\\\File handling\\\\love.txt\", 'r') as f:\n",
    "    for line in f:\n",
    "        for word in line.split():\n",
    "            if word in word_count:\n",
    "                word_count[word] += 1\n",
    "            else:\n",
    "                word_count[word] = 1\n",
    "\n",
    "print(word_count)\n"
   ]
  },
  {
   "cell_type": "code",
   "execution_count": null,
   "id": "151f471c-72ac-4f31-aa43-798f1a8fb346",
   "metadata": {},
   "outputs": [],
   "source": []
  }
 ],
 "metadata": {
  "kernelspec": {
   "display_name": "Python 3 (ipykernel)",
   "language": "python",
   "name": "python3"
  },
  "language_info": {
   "codemirror_mode": {
    "name": "ipython",
    "version": 3
   },
   "file_extension": ".py",
   "mimetype": "text/x-python",
   "name": "python",
   "nbconvert_exporter": "python",
   "pygments_lexer": "ipython3",
   "version": "3.10.11"
  }
 },
 "nbformat": 4,
 "nbformat_minor": 5
}
