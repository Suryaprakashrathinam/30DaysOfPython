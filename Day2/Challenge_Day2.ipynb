{
 "cells": [
  {
   "cell_type": "code",
   "execution_count": 10,
   "id": "47dae75f-740b-4b71-a049-019940745db0",
   "metadata": {},
   "outputs": [
    {
     "name": "stdin",
     "output_type": "stream",
     "text": [
      "Enter the length of the rectangle:  58\n",
      "Enter the width of the rectangle:  45\n",
      "Enter the unit(Eg. mm, cm, m):  cm\n"
     ]
    }
   ],
   "source": [
    "# Topics\n",
    "# Integers, floats, strings, booleans, type conversion\n",
    "\n",
    "# Challenge\n",
    "# Calculate the area of a rectangle using user-input length and width\n",
    "\n",
    "# inputs\n",
    "length = float (input(\"Enter the length of the rectangle: \"))\n",
    "width = float (input(\"Enter the width of the rectangle: \"))\n",
    "unit = input (\"Enter the unit(Eg. mm, cm, m): \")\n"
   ]
  },
  {
   "cell_type": "code",
   "execution_count": 11,
   "id": "bebde26b-fac9-4de2-8cc2-5e2e5e1e93f5",
   "metadata": {},
   "outputs": [],
   "source": [
    "# formula of rectangle\n",
    "# Area = length * width\n",
    "area = length * width"
   ]
  },
  {
   "cell_type": "code",
   "execution_count": 12,
   "id": "b5fd28f9-ac74-44fe-9a34-428792b74cf4",
   "metadata": {},
   "outputs": [
    {
     "name": "stdout",
     "output_type": "stream",
     "text": [
      "Area of the rectangle is 2610.0 square cm\n"
     ]
    }
   ],
   "source": [
    "# result\n",
    "print(f\"Area of the rectangle is {area} square {unit}\")"
   ]
  },
  {
   "cell_type": "code",
   "execution_count": 20,
   "id": "7745537f-ea43-47e4-bcf2-cac23f83468e",
   "metadata": {},
   "outputs": [],
   "source": [
    "#below is the basic steps I have started\n",
    "length = 56\n",
    "width = 78\n",
    "unit = \"cm\""
   ]
  },
  {
   "cell_type": "code",
   "execution_count": 21,
   "id": "3bd3b14f-61bb-4838-af03-f3fe148180b1",
   "metadata": {},
   "outputs": [
    {
     "name": "stdout",
     "output_type": "stream",
     "text": [
      "4368\n"
     ]
    }
   ],
   "source": [
    "area = length * width\n",
    "print (area)"
   ]
  },
  {
   "cell_type": "code",
   "execution_count": null,
   "id": "85e2e871-e4af-4e3f-b781-14091fd5fe42",
   "metadata": {},
   "outputs": [],
   "source": []
  }
 ],
 "metadata": {
  "kernelspec": {
   "display_name": "Python 3 (ipykernel)",
   "language": "python",
   "name": "python3"
  },
  "language_info": {
   "codemirror_mode": {
    "name": "ipython",
    "version": 3
   },
   "file_extension": ".py",
   "mimetype": "text/x-python",
   "name": "python",
   "nbconvert_exporter": "python",
   "pygments_lexer": "ipython3",
   "version": "3.10.11"
  }
 },
 "nbformat": 4,
 "nbformat_minor": 5
}
