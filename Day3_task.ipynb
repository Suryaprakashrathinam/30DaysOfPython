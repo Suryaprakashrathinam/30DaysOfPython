{
 "cells": [
  {
   "cell_type": "code",
   "execution_count": 1,
   "id": "29fc59ed-a4b6-4b4e-9c6e-7b4233e91c82",
   "metadata": {},
   "outputs": [
    {
     "name": "stdout",
     "output_type": "stream",
     "text": [
      "8667054319\n"
     ]
    }
   ],
   "source": [
    "contacts = [('rachel',8887771111),('monica',3332227777),('Surya',8667054319)]\n",
    "contacts\n",
    "for contact in contacts:\n",
    "    if contact [0]== 'Surya':\n",
    "        print (contact[1])"
   ]
  },
  {
   "cell_type": "code",
   "execution_count": 2,
   "id": "2b6d0352-d129-488b-a935-f028f0e9a0cd",
   "metadata": {},
   "outputs": [
    {
     "data": {
      "text/plain": [
       "{'rachel': 8887771111, 'monica': 9195675555, 'surya': 8667054319}"
      ]
     },
     "execution_count": 2,
     "metadata": {},
     "output_type": "execute_result"
    }
   ],
   "source": [
    "d = {\n",
    "    'rachel' : 8887771111,\n",
    "    'monica' : 9195675555,\n",
    "    'surya' : 8667054319\n",
    "}\n",
    "d"
   ]
  },
  {
   "cell_type": "code",
   "execution_count": 3,
   "id": "72db9f64-a65d-4eb9-b7e4-88807bda30b6",
   "metadata": {},
   "outputs": [
    {
     "data": {
      "text/plain": [
       "8667054319"
      ]
     },
     "execution_count": 3,
     "metadata": {},
     "output_type": "execute_result"
    }
   ],
   "source": [
    "d['surya']"
   ]
  },
  {
   "cell_type": "code",
   "execution_count": 4,
   "id": "2413e434-9d79-4b23-9212-915ee85e86a3",
   "metadata": {},
   "outputs": [
    {
     "data": {
      "text/plain": [
       "0"
      ]
     },
     "execution_count": 4,
     "metadata": {},
     "output_type": "execute_result"
    }
   ],
   "source": [
    "d.get('mohan',0)"
   ]
  },
  {
   "cell_type": "code",
   "execution_count": 5,
   "id": "e4d2d66c-54f7-4052-9bef-1a1ae4c0d125",
   "metadata": {},
   "outputs": [
    {
     "data": {
      "text/plain": [
       "{'rachel': 1112224444,\n",
       " 'monica': 9195675555,\n",
       " 'surya': 8667054319,\n",
       " 'sathya': 7676008760}"
      ]
     },
     "execution_count": 5,
     "metadata": {},
     "output_type": "execute_result"
    }
   ],
   "source": [
    "d['rachel'] = 1112224444\n",
    "d\n",
    "d['sathya'] = 7676008760\n",
    "d"
   ]
  },
  {
   "cell_type": "code",
   "execution_count": 9,
   "id": "9293a954-4e05-49f8-a849-dccab771a935",
   "metadata": {},
   "outputs": [
    {
     "data": {
      "text/plain": [
       "False"
      ]
     },
     "execution_count": 9,
     "metadata": {},
     "output_type": "execute_result"
    }
   ],
   "source": [
    "'abdul' in d"
   ]
  },
  {
   "cell_type": "code",
   "execution_count": 10,
   "id": "13a1fb51-3a44-4469-b18e-8f3f2dc51bd6",
   "metadata": {},
   "outputs": [
    {
     "data": {
      "text/plain": [
       "True"
      ]
     },
     "execution_count": 10,
     "metadata": {},
     "output_type": "execute_result"
    }
   ],
   "source": [
    "'surya' in d"
   ]
  },
  {
   "cell_type": "code",
   "execution_count": 13,
   "id": "a8c2fa29-4458-4e4a-91a4-bd088c8e8ee4",
   "metadata": {},
   "outputs": [
    {
     "data": {
      "text/plain": [
       "{'rachel': {'phone': 1234, 'address': '1 blue st'}}"
      ]
     },
     "execution_count": 13,
     "metadata": {},
     "output_type": "execute_result"
    }
   ],
   "source": [
    "d = {\n",
    "    'rachel' : {'phone':1234,'address':'1 blue st'}\n",
    "}\n",
    "d"
   ]
  },
  {
   "cell_type": "code",
   "execution_count": 14,
   "id": "51c34f13-1734-4320-952b-ecf7c2bf0a25",
   "metadata": {},
   "outputs": [
    {
     "data": {
      "text/plain": [
       "1234"
      ]
     },
     "execution_count": 14,
     "metadata": {},
     "output_type": "execute_result"
    }
   ],
   "source": [
    "d['rachel']['phone']"
   ]
  },
  {
   "cell_type": "code",
   "execution_count": 15,
   "id": "39c463e0-5fd8-4140-9a1e-ac7dd3e1ff52",
   "metadata": {},
   "outputs": [
    {
     "data": {
      "text/plain": [
       "{'Surya': 28, 'deepak': 26, 'Ram': 28}"
      ]
     },
     "execution_count": 15,
     "metadata": {},
     "output_type": "execute_result"
    }
   ],
   "source": [
    "age = {\n",
    "    'Surya' : 28,\n",
    "    'deepak' : 26,\n",
    "    'Ram' : 28\n",
    "}\n",
    "age"
   ]
  },
  {
   "cell_type": "code",
   "execution_count": null,
   "id": "3826727b-7b58-4278-8d3f-1c92b11390e3",
   "metadata": {},
   "outputs": [],
   "source": []
  }
 ],
 "metadata": {
  "kernelspec": {
   "display_name": "Python 3 (ipykernel)",
   "language": "python",
   "name": "python3"
  },
  "language_info": {
   "codemirror_mode": {
    "name": "ipython",
    "version": 3
   },
   "file_extension": ".py",
   "mimetype": "text/x-python",
   "name": "python",
   "nbconvert_exporter": "python",
   "pygments_lexer": "ipython3",
   "version": "3.10.11"
  }
 },
 "nbformat": 4,
 "nbformat_minor": 5
}
